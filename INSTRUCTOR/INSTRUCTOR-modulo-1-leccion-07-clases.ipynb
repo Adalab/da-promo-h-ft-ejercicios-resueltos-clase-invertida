{
 "cells": [
  {
   "cell_type": "markdown",
   "metadata": {},
   "source": [
    "## Programacion orientada a objetos"
   ]
  },
  {
   "cell_type": "markdown",
   "metadata": {},
   "source": [
    "*   Programacion orientada a objetos (OOP): INSTANCIAS de clases...les suena instancias????"
   ]
  },
  {
   "cell_type": "markdown",
   "metadata": {},
   "source": [
    "*   Una clase es como un plano! puedo moldear cosas en base a una clase concreta."
   ]
  },
  {
   "cell_type": "markdown",
   "metadata": {},
   "source": [
    "*   Beneficios varios como:\n",
    "    \n",
    "    1) modularida y reutilizacion -> guardar datos y comportamiento definidos\n",
    "    2) organizacion y estructura -> estructura clara Y JERARQUICA!\n",
    "    3) abstraccion y encapsulamiento -> se ocultan detalles internos y muestra lo que queremos mostrar\n",
    "    4) polimorfismo, que se pueda adapta a la situacion que nosotros queremos."
   ]
  },
  {
   "cell_type": "markdown",
   "metadata": {},
   "source": [
    "*   Como definimos o armamos una clase:\n",
    "    \n",
    "    1) palabra reservada......?\n",
    "    2) nombre de mi clase...alguna particularidad? como se cierra la definicion de la clase?\n"
   ]
  },
  {
   "cell_type": "markdown",
   "metadata": {},
   "source": [
    "*   Una clase esta compuesta por:\n",
    "\n",
    "    1) atributos -> son las caracteristicas, asi como un auto puede ser azul, de 4 puertas, deportivo, etc, podriamos decir que es mas referido a la descripcion del mismo.\n",
    "    2) metodos----> son las funciones o acciones que puede hacer mi clase."
   ]
  },
  {
   "cell_type": "markdown",
   "metadata": {},
   "source": [
    "*   Pasos a seguir para crear mi clase: crearemos un clase vehiculo!\n",
    "\n",
    "    1) crear nuestra clase de Vehiculo\n",
    "    2) tengamos en cuenta cuales son esos atributos que queremos que contenga (sus propiedades), usaremos el constructor para esta definicion de sus atributos.\n",
    "    hablaremos de init()\n",
    "    3) creamos metodos para nuestra clase, es decir que cosas puede hacer definido por mi clase\n",
    "    4) instanciamos un objeto con la clase que creamos.\n",
    "    5) podremos ver como esta compuesto mi instancia de la clase? .__dict__"
   ]
  },
  {
   "cell_type": "code",
   "execution_count": 34,
   "metadata": {},
   "outputs": [
    {
     "name": "stdout",
     "output_type": "stream",
     "text": [
      "<__main__.Vehiculo object at 0x7f04e123a820>\n"
     ]
    }
   ],
   "source": [
    "class Vehiculo():\n",
    "    pass\n",
    "\n",
    "print(Vehiculo())"
   ]
  },
  {
   "cell_type": "code",
   "execution_count": 35,
   "metadata": {},
   "outputs": [],
   "source": [
    "class Vehiculo():\n",
    "    \n",
    "    def __init__(self,color,puertas,velocidad_max,marca=\"ford\"):\n",
    "        self.color = color\n",
    "        self.puertas = puertas\n",
    "        self.velocidad_max = velocidad_max\n",
    "        self.marca=marca"
   ]
  },
  {
   "cell_type": "code",
   "execution_count": 36,
   "metadata": {},
   "outputs": [],
   "source": [
    "auto = Vehiculo(\"verde\",4,150,\"chevy\")"
   ]
  },
  {
   "cell_type": "code",
   "execution_count": 40,
   "metadata": {},
   "outputs": [
    {
     "data": {
      "text/plain": [
       "'tesla'"
      ]
     },
     "execution_count": 40,
     "metadata": {},
     "output_type": "execute_result"
    }
   ],
   "source": [
    "auto.marca = \"tesla\"\n",
    "auto.marca"
   ]
  },
  {
   "cell_type": "code",
   "execution_count": 39,
   "metadata": {},
   "outputs": [
    {
     "data": {
      "text/plain": [
       "<__main__.Vehiculo at 0x7f04e26d7280>"
      ]
     },
     "execution_count": 39,
     "metadata": {},
     "output_type": "execute_result"
    }
   ],
   "source": [
    "auto = Vehiculo(\"rojo\",4,250)\n",
    "auto"
   ]
  },
  {
   "cell_type": "code",
   "execution_count": null,
   "metadata": {},
   "outputs": [],
   "source": [
    "print(\"esto es\", variable, \"de la variable\")\n",
    "print(f\"esto es {variable} de la variable\")"
   ]
  },
  {
   "cell_type": "code",
   "execution_count": 41,
   "metadata": {},
   "outputs": [],
   "source": [
    "class Vehiculo:\n",
    "    def __init__(self, marca, modelo, año,velocidad_actual = 0,encendido = False):\n",
    "        self.marca = marca\n",
    "        self.modelo = modelo\n",
    "        self.año = año\n",
    "        self.velocidad_actual = velocidad_actual\n",
    "        self.encendido = encendido\n",
    "\n",
    "    def informacion(self):\n",
    "        return f\"Información del vehículo: Marca: {self.marca}, Modelo: {self.modelo}, Año: {self.año}\"\n",
    "\n",
    "    def encender(self):\n",
    "        if not self.encendido:\n",
    "            self.encendido = True\n",
    "            return \"El vehículo ha sido encendido.\"\n",
    "        else:\n",
    "            return \"El vehículo ya está encendido.\"\n",
    "\n",
    "    def apagar(self):\n",
    "        if self.encendido:\n",
    "            self.encendido = False\n",
    "            self.velocidad_actual = 0\n",
    "            return \"El vehículo ha sido apagado.\"\n",
    "        else:\n",
    "            return \"El vehículo ya está apagado.\"\n",
    "\n",
    "    def acelerar(self, velocidad):\n",
    "        if self.encendido:\n",
    "            self.velocidad_actual += velocidad\n",
    "            return f\"El vehículo aceleró y ahora va a {self.velocidad_actual} km/h.\"\n",
    "        else:\n",
    "            return \"No se puede acelerar, el vehículo está apagado.\"\n",
    "\n",
    "    def frenar(self, velocidad):\n",
    "        if self.encendido:\n",
    "            self.velocidad_actual -= velocidad\n",
    "            if self.velocidad_actual < 0:\n",
    "                self.velocidad_actual = 0\n",
    "            return f\"El vehículo frenó y ahora va a {self.velocidad_actual} km/h.\"\n",
    "        else:\n",
    "            return \"No se puede frenar, el vehículo está apagado.\"\n",
    "\n",
    "    def detener(self):\n",
    "        if self.encendido:\n",
    "            while self.velocidad_actual > 0:\n",
    "                self.velocidad_actual = max(0, self.velocidad_actual - 5)\n",
    "            return \"El vehículo se detuvo.\"\n",
    "        else:\n",
    "            return \"No se puede detener, el vehículo está apagado.\""
   ]
  },
  {
   "cell_type": "code",
   "execution_count": 43,
   "metadata": {},
   "outputs": [],
   "source": [
    "# Ejemplo de uso:\n",
    "mi_vehiculo = Vehiculo(\"Toyota\", \"Corolla\", 2020)"
   ]
  },
  {
   "cell_type": "code",
   "execution_count": 51,
   "metadata": {},
   "outputs": [
    {
     "data": {
      "text/plain": [
       "'El vehículo ya está encendido.'"
      ]
     },
     "execution_count": 51,
     "metadata": {},
     "output_type": "execute_result"
    }
   ],
   "source": [
    "mi_vehiculo.encender()"
   ]
  },
  {
   "cell_type": "code",
   "execution_count": 60,
   "metadata": {},
   "outputs": [
    {
     "data": {
      "text/plain": [
       "0"
      ]
     },
     "execution_count": 60,
     "metadata": {},
     "output_type": "execute_result"
    }
   ],
   "source": [
    "mi_vehiculo.velocidad_actual"
   ]
  },
  {
   "cell_type": "code",
   "execution_count": 55,
   "metadata": {},
   "outputs": [
    {
     "data": {
      "text/plain": [
       "'El vehículo aceleró y ahora va a 250 km/h.'"
      ]
     },
     "execution_count": 55,
     "metadata": {},
     "output_type": "execute_result"
    }
   ],
   "source": [
    "mi_vehiculo.acelerar(50)"
   ]
  },
  {
   "cell_type": "code",
   "execution_count": 57,
   "metadata": {},
   "outputs": [
    {
     "data": {
      "text/plain": [
       "'El vehículo frenó y ahora va a 100 km/h.'"
      ]
     },
     "execution_count": 57,
     "metadata": {},
     "output_type": "execute_result"
    }
   ],
   "source": [
    "mi_vehiculo.frenar(150)"
   ]
  },
  {
   "cell_type": "code",
   "execution_count": 59,
   "metadata": {},
   "outputs": [
    {
     "data": {
      "text/plain": [
       "'El vehículo frenó y ahora va a 0 km/h.'"
      ]
     },
     "execution_count": 59,
     "metadata": {},
     "output_type": "execute_result"
    }
   ],
   "source": [
    "mi_vehiculo.frenar(150)"
   ]
  },
  {
   "cell_type": "code",
   "execution_count": 62,
   "metadata": {},
   "outputs": [
    {
     "data": {
      "text/plain": [
       "'El vehículo ya está apagado.'"
      ]
     },
     "execution_count": 62,
     "metadata": {},
     "output_type": "execute_result"
    }
   ],
   "source": [
    "mi_vehiculo.apagar()"
   ]
  },
  {
   "cell_type": "code",
   "execution_count": null,
   "metadata": {},
   "outputs": [],
   "source": [
    "# otras acciones que podriamos hacer..prueba las tuyas!\n",
    "\n",
    "print(mi_vehiculo.encender())\n",
    "print(mi_vehiculo.acelerar(50))\n",
    "print(mi_vehiculo.acelerar(150))\n",
    "print(mi_vehiculo.frenar(250))\n",
    "print(mi_vehiculo.detener())\n",
    "print(mi_vehiculo.apagar())"
   ]
  },
  {
   "cell_type": "markdown",
   "metadata": {},
   "source": [
    "## otra clase...y ahora con subclase!"
   ]
  },
  {
   "cell_type": "code",
   "execution_count": 63,
   "metadata": {},
   "outputs": [],
   "source": [
    "class Vehiculo:\n",
    "    def __init__(self, marca, modelo):\n",
    "        self.marca = marca\n",
    "        self.modelo = modelo\n",
    "        \n",
    "    def cosa(self,bocina):\n",
    "        self.bocina = bocina\n",
    "        return(f\"toca {self.bocina} la bocina\")"
   ]
  },
  {
   "cell_type": "code",
   "execution_count": 65,
   "metadata": {},
   "outputs": [],
   "source": [
    "class Coche(Vehiculo):\n",
    "    def __init__(self, marca,modelo, color):  # La clase hija toma solo 'color' como parámetro\n",
    "        # Inicialización de los atributos heredados de la clase padre\n",
    "        super().__init__(marca,modelo)\n",
    "        self.color = color\n",
    "        \n",
    "    def accion(self):\n",
    "        return \"hace algo\""
   ]
  },
  {
   "cell_type": "code",
   "execution_count": 66,
   "metadata": {},
   "outputs": [
    {
     "name": "stdout",
     "output_type": "stream",
     "text": [
      "ford\n",
      "Rojo\n",
      "hace algo\n",
      "toca 4 la bocina\n"
     ]
    }
   ],
   "source": [
    "# Ejemplo de uso:\n",
    "mi_coche = Coche(\"ford\",\"focus\",\"Rojo\")\n",
    "print(mi_coche.marca)   \n",
    "print(mi_coche.color)   \n",
    "print(mi_coche.accion())   \n",
    "print(mi_coche.cosa(4))   "
   ]
  }
 ],
 "metadata": {
  "kernelspec": {
   "display_name": "base",
   "language": "python",
   "name": "python3"
  },
  "language_info": {
   "codemirror_mode": {
    "name": "ipython",
    "version": 3
   },
   "file_extension": ".py",
   "mimetype": "text/x-python",
   "name": "python",
   "nbconvert_exporter": "python",
   "pygments_lexer": "ipython3",
   "version": "3.9.7"
  }
 },
 "nbformat": 4,
 "nbformat_minor": 2
}
