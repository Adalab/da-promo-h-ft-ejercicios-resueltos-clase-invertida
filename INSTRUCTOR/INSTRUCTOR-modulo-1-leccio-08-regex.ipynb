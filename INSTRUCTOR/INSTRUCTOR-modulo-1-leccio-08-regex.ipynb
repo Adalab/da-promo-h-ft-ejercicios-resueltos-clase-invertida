{
 "cells": [
  {
   "cell_type": "markdown",
   "metadata": {},
   "source": [
    "## Regex en python!"
   ]
  },
  {
   "cell_type": "markdown",
   "metadata": {},
   "source": [
    "*   Composicion de regex.\n",
    "*   Operadores comunes\n",
    "*   Sintaxis basica\n",
    "*   Funciones principales"
   ]
  },
  {
   "cell_type": "code",
   "execution_count": 2,
   "metadata": {},
   "outputs": [],
   "source": [
    "# nota importante! para poder utilizar las expresiones regulares, debemos decirle a python que queremos \"importarlas\"(ya veremos en el futuro a que hace referencia esto de importar), que simplemente seria traer ciertas funcionalidades que necesito usar.\n",
    "\n",
    "import re"
   ]
  },
  {
   "cell_type": "markdown",
   "metadata": {},
   "source": [
    "### Composicion de nuestros regex.\n",
    "\n",
    "Compuesto por:\n",
    "\n",
    "    1) Nuestra cadena de texto.\n",
    "    2) Nuestro patron segun lo que queramos encontrar.\n",
    "    3) Tipo de funcion a utilizar segun el caso."
   ]
  },
  {
   "cell_type": "markdown",
   "metadata": {},
   "source": [
    "### Veamos los operadores comunes pero con codigo."
   ]
  },
  {
   "cell_type": "code",
   "execution_count": 8,
   "metadata": {},
   "outputs": [
    {
     "name": "stdout",
     "output_type": "stream",
     "text": [
      "['abc', 'abbc', 'abbbbbbbbc']\n"
     ]
    }
   ],
   "source": [
    "# +: Coincide con el carácter precedente una o más veces.\n",
    "\n",
    "# Patrón: ab+c\n",
    "\n",
    "texto = \"abc abbc abbbbbbbbc ac cab\"\n",
    "patron = r'ab+c'\n",
    "coincidencias = re.findall(patron, texto)\n",
    "print(coincidencias)"
   ]
  },
  {
   "cell_type": "code",
   "execution_count": 11,
   "metadata": {},
   "outputs": [
    {
     "name": "stdout",
     "output_type": "stream",
     "text": [
      "['abc', 'abbc', 'abbbbc', 'abbbc', 'ac']\n"
     ]
    }
   ],
   "source": [
    "# *: Coincide con el carácter precedente cero o más veces.\n",
    "\n",
    "# Patrón: ab*c\n",
    "\n",
    "texto = \"abc abbc abbbbcc ab abbbc ac\"\n",
    "patron = r'ab*c'\n",
    "coincidencias = re.findall(patron, texto)\n",
    "print(coincidencias)"
   ]
  },
  {
   "cell_type": "code",
   "execution_count": 13,
   "metadata": {},
   "outputs": [
    {
     "name": "stdout",
     "output_type": "stream",
     "text": [
      "['colour', 'color', 'color', 'colour']\n"
     ]
    }
   ],
   "source": [
    "# ?: Indica cero o una ocurrencia del elemento precedente.\n",
    "\n",
    "# Patrón: colou?r\n",
    "\n",
    "texto = \"colour color colors coloures Color\"\n",
    "patron = r'colou?r'\n",
    "coincidencias = re.findall(patron, texto)\n",
    "print(coincidencias)"
   ]
  },
  {
   "cell_type": "code",
   "execution_count": 15,
   "metadata": {},
   "outputs": [
    {
     "name": "stdout",
     "output_type": "stream",
     "text": [
      "['abc', 'adc', 'aec', 'aFc', 'aac']\n"
     ]
    }
   ],
   "source": [
    "# .: Coincide con cualquier caracter individual.\n",
    "\n",
    "# Patrón: a.c\n",
    "\n",
    "texto = \"abc adc aec aFc abh aac\"\n",
    "patron = r'a.c'\n",
    "coincidencias = re.findall(patron, texto)\n",
    "print(coincidencias) "
   ]
  },
  {
   "cell_type": "code",
   "execution_count": 23,
   "metadata": {},
   "outputs": [
    {
     "name": "stdout",
     "output_type": "stream",
     "text": [
      "['b']\n"
     ]
    }
   ],
   "source": [
    "# ^: Coincide con la posición inicial de cualquier string.\n",
    "\n",
    "# Patrón: ^b\n",
    "\n",
    "texto = \"bat ball basketball\"\n",
    "patron = r'^b'\n",
    "coincidencias = re.findall(patron, texto)\n",
    "print(coincidencias)"
   ]
  },
  {
   "cell_type": "code",
   "execution_count": 60,
   "metadata": {},
   "outputs": [
    {
     "name": "stdout",
     "output_type": "stream",
     "text": [
      "['gato']\n"
     ]
    }
   ],
   "source": [
    "# $: Coincide con la posición final de cualquier string.\n",
    "\n",
    "# Patrón: o$\n",
    "\n",
    "texto = \"sombrero de mi gato\"\n",
    "patron = r'gato$'\n",
    "coincidencias = re.findall(patron, texto)\n",
    "print(coincidencias)"
   ]
  },
  {
   "cell_type": "markdown",
   "metadata": {},
   "source": [
    "### Sintaxis basica en regex...pero con codigo."
   ]
  },
  {
   "cell_type": "code",
   "execution_count": 31,
   "metadata": {},
   "outputs": [
    {
     "name": "stdout",
     "output_type": "stream",
     "text": [
      "['Hola123', 'Promo_H_456', '1982', 'f']\n"
     ]
    }
   ],
   "source": [
    "#\\w: Coincide con cualquier caracter alfanumerico (letras, números y guiones bajos).\n",
    "\n",
    "# Patrón: \\w+\n",
    "\n",
    "texto = \"Hola123 Promo_H_456 1982 f*?\"\n",
    "patron = r'\\w+'\n",
    "coincidencias = re.findall(patron, texto)\n",
    "print(coincidencias)"
   ]
  },
  {
   "cell_type": "code",
   "execution_count": 34,
   "metadata": {},
   "outputs": [
    {
     "name": "stdout",
     "output_type": "stream",
     "text": [
      "['123', '45678']\n"
     ]
    }
   ],
   "source": [
    "#\\d: Coincide con cualquier caracter numérico.\n",
    "\n",
    "# Patrón: \\d+\n",
    "\n",
    "texto = \"123 Pepito 45678 nachito\"\n",
    "patron = r'\\d+'\n",
    "coincidencias = re.findall(patron, texto)\n",
    "print(coincidencias)"
   ]
  },
  {
   "cell_type": "code",
   "execution_count": 37,
   "metadata": {},
   "outputs": [
    {
     "name": "stdout",
     "output_type": "stream",
     "text": [
      "['    ', '  ']\n"
     ]
    }
   ],
   "source": [
    "# \\s: Coincide con cualquier espacio en blanco en el texto.\n",
    "\n",
    "# Patrón: \\s+\n",
    "texto = \"Hola    promoH  \"\n",
    "patron = r'\\s+'\n",
    "coincidencias = re.findall(patron, texto)\n",
    "print(coincidencias)"
   ]
  },
  {
   "cell_type": "code",
   "execution_count": 38,
   "metadata": {},
   "outputs": [
    {
     "name": "stdout",
     "output_type": "stream",
     "text": [
      "['\\n', '\\n', '\\n', '\\n']\n"
     ]
    }
   ],
   "source": [
    "# \\n: Coincide con saltos de línea en el texto.\n",
    "\n",
    "# Patrón: \\n\n",
    "texto = \"\"\"Primera línea \n",
    "            \n",
    "            Segunda linea \n",
    "            \n",
    "            tercera línea\"\"\" \n",
    "patron = r'\\n'\n",
    "coincidencias = re.findall(patron, texto)\n",
    "print(coincidencias)"
   ]
  },
  {
   "cell_type": "code",
   "execution_count": 39,
   "metadata": {},
   "outputs": [
    {
     "name": "stdout",
     "output_type": "stream",
     "text": [
      "[' !@ ', ' #$%']\n"
     ]
    }
   ],
   "source": [
    "#\\W: Coincide con cualquier caracter que no sea alfanumerico (letras, números y guiones bajos).\n",
    "\n",
    "# Patrón: \\W+\n",
    "texto = \"Hola123 !@ promoH #$%\"\n",
    "patron = r'\\W+'\n",
    "coincidencias = re.findall(patron, texto)\n",
    "print(coincidencias)"
   ]
  },
  {
   "cell_type": "code",
   "execution_count": 40,
   "metadata": {},
   "outputs": [
    {
     "name": "stdout",
     "output_type": "stream",
     "text": [
      "[' promo ', ' H !@#$%']\n"
     ]
    }
   ],
   "source": [
    "# \\D: Coincide con cualquier caracter que no sea numérico.\n",
    "\n",
    "# Patrón: \\D+\n",
    "texto = \"2008 promo 1982 H !@#$%\"\n",
    "patron = r'\\D+'\n",
    "coincidencias = re.findall(patron, texto)\n",
    "print(coincidencias)"
   ]
  },
  {
   "cell_type": "code",
   "execution_count": 41,
   "metadata": {},
   "outputs": [
    {
     "name": "stdout",
     "output_type": "stream",
     "text": [
      "['Hola', 'PROmoH', '1982']\n"
     ]
    }
   ],
   "source": [
    "# \\S: Coincide con cualquier caracter que NO sea un espacio en blanco.\n",
    "\n",
    "# Patrón: \\S+\n",
    "texto = \"Hola    PROmoH  1982\"\n",
    "patron = r'\\S+'\n",
    "coincidencias = re.findall(patron, texto)\n",
    "print(coincidencias)"
   ]
  },
  {
   "cell_type": "code",
   "execution_count": 45,
   "metadata": {},
   "outputs": [
    {
     "name": "stdout",
     "output_type": "stream",
     "text": [
      "['promo', 'REGEX']\n"
     ]
    }
   ],
   "source": [
    "# \\b : representa un límite de palabra. significa que debe estar precedido y seguido de caracteres que no sean alfanuméricos (como espacios, comas, puntos, etc.).esto nos aseguran de que las coincidencias encontradas sean palabras completas y no partes de palabras.\n",
    "\n",
    "texto = \"La promo 123 Hedy entiende todo en REGEX!.\"\n",
    "patron = r'\\b\\w{5,}\\b'\n",
    "\n",
    "coincidencias = re.findall(patron, texto)\n",
    "print(coincidencias)"
   ]
  },
  {
   "cell_type": "code",
   "execution_count": 48,
   "metadata": {},
   "outputs": [
    {
     "name": "stdout",
     "output_type": "stream",
     "text": [
      "['Jorge', 'Ignacio']\n"
     ]
    }
   ],
   "source": [
    "# (): Aísla una parte específica del patrón de búsqueda para ser devuelta como un grupo.\n",
    "\n",
    "# Patrón: (\\w+)\n",
    "\n",
    "texto = \"Nombre: Jorge, Edad: 30, Nombre: Ignacio, Edad:42\"\n",
    "patron = r'Nombre: (\\w+)'\n",
    "coincidencias = re.findall(patron, texto)\n",
    "print(coincidencias)"
   ]
  },
  {
   "cell_type": "code",
   "execution_count": 53,
   "metadata": {},
   "outputs": [
    {
     "name": "stdout",
     "output_type": "stream",
     "text": [
      "[]\n"
     ]
    }
   ],
   "source": [
    "# []: Incluye un conjunto de caracteres que se utilizarán para coincidir.\n",
    "\n",
    "# Patrón: [a-z]+\n",
    "\n",
    "texto = \"mi 1982    promoH  ES_LA_MEJOR_1982\"\n",
    "patron = r'[a-z]'\n",
    "coincidencias = re.findall(patron, texto)\n",
    "print(coincidencias)"
   ]
  },
  {
   "cell_type": "code",
   "execution_count": 54,
   "metadata": {},
   "outputs": [
    {
     "name": "stdout",
     "output_type": "stream",
     "text": [
      "['bonjour']\n"
     ]
    }
   ],
   "source": [
    "# |: Es como el operador or que conocemos de Python. Comprueba si el string contiene uno de los patrones especificados.\n",
    "\n",
    "# Patrón: hola|bonjour\n",
    "\n",
    "texto = \"Hola mundo, bonjour tout le monde\"\n",
    "patron = r'hola|bonjour'\n",
    "coincidencias = re.findall(patron, texto)\n",
    "print(coincidencias)"
   ]
  },
  {
   "cell_type": "code",
   "execution_count": 55,
   "metadata": {},
   "outputs": [
    {
     "name": "stdout",
     "output_type": "stream",
     "text": [
      "['.', '.']\n"
     ]
    }
   ],
   "source": [
    "#\\: Señala una secuencia especial (escapar caracteres especiales). Se utiliza para escapar caracteres que tienen un significado especial en las expresiones regulares.\n",
    "\n",
    "# Patrón: \\.\n",
    "texto = \"www.example.com\"\n",
    "patron = r'\\.'\n",
    "coincidencias = re.findall(patron, texto)\n",
    "print(coincidencias)"
   ]
  },
  {
   "cell_type": "markdown",
   "metadata": {},
   "source": [
    "### Funciones pricipales de Regex\n",
    "\n",
    "En Python nos vamos a encontrar 5 funciones principales que nos van a permitir trabajar con *strings*"
   ]
  },
  {
   "cell_type": "code",
   "execution_count": null,
   "metadata": {},
   "outputs": [],
   "source": [
    "# findall: Devuelve una lista con todas las coincidencias.\n",
    "\n",
    "texto = \"La promo esta CADA vez Mas cerca de Entender regex\"\n",
    "patron = r'\\b[a-zA-Z]+\\b'  # Patrón para encontrar palabras\n",
    "\n",
    "coincidencias = re.findall(patron, texto)\n",
    "print(coincidencias)  "
   ]
  },
  {
   "cell_type": "code",
   "execution_count": null,
   "metadata": {},
   "outputs": [],
   "source": [
    "# sub: Reemplaza una o varias coincidencias con un string especificado.\n",
    "\n",
    "\n",
    "texto = \"La promo esta CADA vez Mas cerca de Entender regex\"\n",
    "patron = r'\\b(\\w{5})\\b'\n",
    "\n",
    "nuevo_texto = re.sub(patron, \"*****\", texto)\n",
    "print(nuevo_texto)"
   ]
  },
  {
   "cell_type": "code",
   "execution_count": null,
   "metadata": {},
   "outputs": [],
   "source": [
    "# split: Devuelve una lista en la que el string ha sido dividido en cada coincidencia.\n",
    "\n",
    "texto = \"La promo esta CADA vez Mas cerca de Entender regex\"\n",
    "patron = r'\\s'\n",
    "\n",
    "partes = re.split(patron, texto)\n",
    "print(partes)"
   ]
  },
  {
   "cell_type": "code",
   "execution_count": 59,
   "metadata": {},
   "outputs": [
    {
     "name": "stdout",
     "output_type": "stream",
     "text": [
      "promo\n"
     ]
    }
   ],
   "source": [
    "# match: Busca el patrón de expresión regular y devuelve la primera ocurrencia.\n",
    "\n",
    "\n",
    "texto = \"\"\"La promo esta CADA vez Mas cerca de Entender regex\"\"\"\n",
    "patron = r'promo' \n",
    "\n",
    "coincidencia = re.match(patron, texto)\n",
    "print(coincidencia.group())"
   ]
  },
  {
   "cell_type": "code",
   "execution_count": null,
   "metadata": {},
   "outputs": [],
   "source": [
    "# search: Devuelve un objeto Match si hay una coincidencia en cualquier parte de la cadena.\n",
    "\n",
    "texto = \"La promo esta CADA vez Mas cerca de Entender regex\"\n",
    "patron = r'esta' \n",
    "\n",
    "coincidencia = re.search(patron, texto)\n",
    "print(coincidencia.group())\n"
   ]
  },
  {
   "cell_type": "markdown",
   "metadata": {},
   "source": [
    "## A tener en cuenta que....\n",
    "\n",
    "\n",
    "|  método |donde nos busca   |qué nos devuelve  |\n",
    "|---|---|---|\n",
    "|**findall()**  |en todo el *string* | una lista con todas las coincidencias en nuestro *string* |\n",
    "|**search()**      |   en todo el *string*| un objeto con la primera coincidencia en nuestro *string*| \n",
    "|**match()**  | en la primera línea del *string*   | un objeto con la primera coincidencia en nuestro *string*  |\n",
    "|**split()**|en todo el *string*|una lista con los elementos separados por el patrón que especificaramos|\n",
    "|**sub()**|en todo el *string*| un *string* con el elemento que coincide| "
   ]
  },
  {
   "cell_type": "markdown",
   "metadata": {},
   "source": [
    "# Ejemplos para la vida de data analyst!"
   ]
  },
  {
   "cell_type": "code",
   "execution_count": 61,
   "metadata": {},
   "outputs": [],
   "source": [
    "# tengo una lista de correos electronicos, quisiera separar la primer parte de cada correo (lo que esta a laizquierda del arroba) y guardarlo en una variable, y hacer lo mismo con lo que esta a la derecha del arroba...como lo hariamos???\n",
    "\n",
    "correos = [\n",
    "    \"paola@example.com\",\n",
    "    \"nuria@outlook.com\",\n",
    "    \"isabel@example.com\",\n",
    "    \"diana@gmail.com\",\n",
    "    \"Mabel@hotmail.com\",\n",
    "    \"VIOLAINE@aol.com\"\n",
    "]"
   ]
  },
  {
   "cell_type": "code",
   "execution_count": 62,
   "metadata": {},
   "outputs": [],
   "source": [
    "# Patrón para separar la parte del nombre de usuario y el dominio\n",
    "patron = r'(.*)@(.*)'"
   ]
  },
  {
   "cell_type": "code",
   "execution_count": 63,
   "metadata": {},
   "outputs": [],
   "source": [
    "# Almacenar los nombres de usuario y dominios\n",
    "nombres = []\n",
    "dominios = []\n",
    "\n",
    "# Iterar sobre cada correo electrónico y extraer el nombre de usuario y el dominio\n",
    "for correo in correos:\n",
    "    coincidencia = re.match(patron, correo)\n",
    "    if coincidencia:\n",
    "        nombres.append(coincidencia.group(1))\n",
    "        dominios.append(coincidencia.group(2))"
   ]
  },
  {
   "cell_type": "code",
   "execution_count": 66,
   "metadata": {},
   "outputs": [
    {
     "name": "stdout",
     "output_type": "stream",
     "text": [
      "Nombres de usuario: ['paola', 'nuria', 'isabel', 'diana', 'Mabel', 'VIOLAINE']\n",
      "Dominios: ['example.com', 'outlook.com', 'example.com', 'gmail.com', 'hotmail.com', 'aol.com']\n"
     ]
    }
   ],
   "source": [
    "# Imprimir los nombres de usuario y dominios\n",
    "print(\"Nombres de usuario:\", nombres)\n",
    "print(\"Dominios:\", dominios)"
   ]
  },
  {
   "cell_type": "code",
   "execution_count": 68,
   "metadata": {},
   "outputs": [
    {
     "name": "stdout",
     "output_type": "stream",
     "text": [
      "{'gmail.com', 'aol.com', 'hotmail.com', 'outlook.com', 'example.com'}\n"
     ]
    }
   ],
   "source": [
    "Dominios = set(dominios)\n",
    "print(Dominios)"
   ]
  },
  {
   "cell_type": "code",
   "execution_count": 31,
   "metadata": {},
   "outputs": [],
   "source": [
    "# Nos llego un mail y debes sacar los correos que viene en el...pero como???\n",
    "\n",
    "texto = \"\"\"\n",
    "Hola Promo Hedy,espero que esten super!\n",
    "\n",
    "Les envio los correos que deben extraer por regex, estos son:\n",
    "paola@example.com\n",
    "nuria@outlook.com\n",
    "isabel@example.com\n",
    "diana@gmail.com\n",
    "Mabel@hotmail.com\n",
    "VIOLAINE@aol.com\n",
    "\n",
    "Gracias,\n",
    "Ignacio Lara Ceballos\n",
    "\"\"\""
   ]
  },
  {
   "cell_type": "code",
   "execution_count": 32,
   "metadata": {},
   "outputs": [],
   "source": [
    "# Patrón para encontrar direcciones de correo electrónico\n",
    "patron_correo = r'\\b[A-Za-z0-9._%+-]+@[A-Za-z0-9.-]+\\.[A-Z|a-z]{2,}\\b'"
   ]
  },
  {
   "cell_type": "code",
   "execution_count": 33,
   "metadata": {},
   "outputs": [
    {
     "name": "stdout",
     "output_type": "stream",
     "text": [
      "paola@example.com\n",
      "nuria@outlook.com\n",
      "isabel@example.com\n",
      "diana@gmail.com\n",
      "Mabel@hotmail.com\n",
      "VIOLAINE@aol.com\n"
     ]
    }
   ],
   "source": [
    "\n",
    "correos_encontrados = re.findall(patron_correo, texto)\n",
    "\n",
    "\n",
    "for correo in correos_encontrados:\n",
    "    print(correo)"
   ]
  },
  {
   "cell_type": "code",
   "execution_count": 39,
   "metadata": {},
   "outputs": [
    {
     "name": "stdout",
     "output_type": "stream",
     "text": [
      "Nombres de usuario: ['paola', 'nuria', 'isabel', 'diana', 'Mabel', 'VIOLAINE']\n",
      "Dominios: ['example.com', 'outlook.com', 'example.com', 'gmail.com', 'hotmail.com', 'aol.com']\n"
     ]
    }
   ],
   "source": [
    "# Almacenar los nombres de usuario y dominios\n",
    "nombres = []\n",
    "dominios = []\n",
    "\n",
    "# Iterar sobre cada correo electrónico y extraer el nombre de usuario y el dominio\n",
    "for correo in correos_encontrados:\n",
    "    coincidencia = re.match(r'(.*)@(.*)', correo)\n",
    "    if coincidencia:\n",
    "        nombres.append(coincidencia.group(1))\n",
    "        dominios.append(coincidencia.group(2))\n",
    "\n",
    "# Imprimir los nombres de usuario y dominios\n",
    "print(\"Nombres de usuario:\", nombres)\n",
    "print(\"Dominios:\", dominios)"
   ]
  },
  {
   "cell_type": "code",
   "execution_count": 38,
   "metadata": {},
   "outputs": [
    {
     "data": {
      "text/plain": [
       "[]"
      ]
     },
     "execution_count": 38,
     "metadata": {},
     "output_type": "execute_result"
    }
   ],
   "source": [
    "nombres"
   ]
  }
 ],
 "metadata": {
  "kernelspec": {
   "display_name": "base",
   "language": "python",
   "name": "python3"
  },
  "language_info": {
   "codemirror_mode": {
    "name": "ipython",
    "version": 3
   },
   "file_extension": ".py",
   "mimetype": "text/x-python",
   "name": "python",
   "nbconvert_exporter": "python",
   "pygments_lexer": "ipython3",
   "version": "3.9.7"
  }
 },
 "nbformat": 4,
 "nbformat_minor": 2
}
