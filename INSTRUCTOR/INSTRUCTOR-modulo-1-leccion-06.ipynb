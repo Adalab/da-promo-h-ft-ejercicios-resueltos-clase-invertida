{
 "cells": [
  {
   "cell_type": "markdown",
   "metadata": {},
   "source": [
    "## Funciones y argumentos (parametros tambien! jejeje)\n",
    "\n",
    "*   funciones!....para que me sirve?\n",
    "*   variables locales vs variables globales\n",
    "*   Argumento vs parametros! son lo mismo?\n",
    "*   Funciones sin parametros, ya vimos algo similar a eso? pensemos un poco!\n",
    "*   Funciones con parametros....los usamos?\n",
    "*   Funciones lambda o \"como acotar funciones\" :).\n",
    "*   Complicando las cosas con lambda y mezclando con algo que sabemos\n",
    "*   Parametros por defecto y sus posiciones.\n",
    "*   args y kwargs ....que funcionalidad tienen?\n",
    "*   Recursividad."
   ]
  },
  {
   "cell_type": "code",
   "execution_count": 55,
   "metadata": {},
   "outputs": [],
   "source": [
    "# algunas cosas para usar!\n",
    "\n",
    "lista = [4,6,8,10]\n",
    "variable = \"me gusta python, pero es muy loco!\""
   ]
  },
  {
   "cell_type": "code",
   "execution_count": 48,
   "metadata": {},
   "outputs": [
    {
     "name": "stdout",
     "output_type": "stream",
     "text": [
      "patricia\n"
     ]
    }
   ],
   "source": [
    "# funciones....como lo armo????\n",
    "\n",
    "nombre = \"patricia\"\n",
    "\n",
    "def calculo(): #PALABRA RESERVADA!!!!!!\n",
    "    valor = 2+3\n",
    "    valor -= 2\n",
    "    nombre = \"nacho\"\n",
    "    \n",
    "print(nombre)"
   ]
  },
  {
   "cell_type": "code",
   "execution_count": 51,
   "metadata": {},
   "outputs": [
    {
     "data": {
      "text/plain": [
       "12"
      ]
     },
     "execution_count": 51,
     "metadata": {},
     "output_type": "execute_result"
    }
   ],
   "source": [
    "def suma(a,b):\n",
    "    resultado = a+b\n",
    "    return resultado\n",
    "    dsfdfs\n",
    "    dsfdsf\n",
    "    dsf\n",
    "    dsfds\n",
    "    fds\n",
    "    fds\n",
    "    fds\n",
    "    fds\n",
    "    fdsff\n",
    "    \n",
    "suma(5,7)"
   ]
  },
  {
   "cell_type": "code",
   "execution_count": 68,
   "metadata": {},
   "outputs": [],
   "source": [
    "saludo = lambda apellido, nombre=\"Gloria\": print(f\"buenos dias {nombre} {apellido}\")"
   ]
  },
  {
   "cell_type": "code",
   "execution_count": 69,
   "metadata": {},
   "outputs": [
    {
     "name": "stdout",
     "output_type": "stream",
     "text": [
      "buenos dias Gloria lara\n"
     ]
    }
   ],
   "source": [
    "saludo(\"lara\")"
   ]
  },
  {
   "cell_type": "code",
   "execution_count": null,
   "metadata": {},
   "outputs": [],
   "source": []
  },
  {
   "cell_type": "code",
   "execution_count": null,
   "metadata": {},
   "outputs": [],
   "source": []
  },
  {
   "cell_type": "code",
   "execution_count": null,
   "metadata": {},
   "outputs": [],
   "source": [
    "def ejemplo(arg1, *args, **kwargs):\n",
    "    pass\n"
   ]
  },
  {
   "cell_type": "code",
   "execution_count": null,
   "metadata": {},
   "outputs": [],
   "source": [
    "def ejemplo(**kwargs, *args):\n",
    "    pass\n"
   ]
  },
  {
   "cell_type": "code",
   "execution_count": null,
   "metadata": {},
   "outputs": [],
   "source": [
    "def ejemplo(*args, **kwargs):\n",
    "    print(\"Argumentos posicionales (*args):\", args)\n",
    "    print(\"Argumentos de palabras clave (**kwargs):\", kwargs)\n",
    "\n",
    "ejemplo(1, 2, 3, nombre=\"Alice\", edad=30)\n"
   ]
  },
  {
   "cell_type": "markdown",
   "metadata": {},
   "source": [
    "## Recursividad:\n",
    "\n",
    "La recursividad es como una tarea que te pide hacer algo, pero dentro de esa tarea hay una parte que te pide hacer la misma tarea nuevamente, pero con una versión más pequeña del problema. Este proceso continúa hasta que se alcanza una versión lo suficientemente pequeña del problema que se puede resolver directamente sin más subdivisión.\n",
    "\n",
    "Por ejemplo, imagina que tienes una caja grande con muchas cajas pequeñas dentro. Para abrir la caja grande, primero debes abrir todas las cajas pequeñas que contiene. Cada vez que abres una caja pequeña, puede que encuentres más cajas pequeñas dentro. Esto sigue hasta que finalmente llegas a una caja que está vacía o que contiene algo que no es otra caja. Solo entonces puedes cerrar esa caja pequeña y regresar a la caja grande."
   ]
  },
  {
   "cell_type": "markdown",
   "metadata": {},
   "source": [
    "por si acaso, definicion de factorial!\n",
    "\n",
    "El factorial de un número entero positivo \\( n \\), denotado como \\( n! \\), es el producto de todos los enteros positivos menores o iguales a \\( n \\). \n",
    "\n",
    "o lo que es lo mismo decir 4! = 4x3x2x1\n",
    "su resultado sera 4! = 24"
   ]
  },
  {
   "cell_type": "code",
   "execution_count": null,
   "metadata": {},
   "outputs": [],
   "source": [
    "def factorial(n):\n",
    "    if n == 1:\n",
    "        return 1\n",
    "    else:\n",
    "        return n * factorial(n - 1)\n"
   ]
  },
  {
   "cell_type": "code",
   "execution_count": null,
   "metadata": {},
   "outputs": [],
   "source": [
    "factorial(4)"
   ]
  }
 ],
 "metadata": {
  "kernelspec": {
   "display_name": "base",
   "language": "python",
   "name": "python3"
  },
  "language_info": {
   "codemirror_mode": {
    "name": "ipython",
    "version": 3
   },
   "file_extension": ".py",
   "mimetype": "text/x-python",
   "name": "python",
   "nbconvert_exporter": "python",
   "pygments_lexer": "ipython3",
   "version": "3.9.7"
  }
 },
 "nbformat": 4,
 "nbformat_minor": 2
}
