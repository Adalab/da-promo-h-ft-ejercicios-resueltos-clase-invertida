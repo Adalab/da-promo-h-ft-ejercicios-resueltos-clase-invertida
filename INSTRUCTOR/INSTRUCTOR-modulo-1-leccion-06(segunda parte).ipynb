{
 "cells": [
  {
   "cell_type": "markdown",
   "metadata": {},
   "source": [
    "## Argumentos"
   ]
  },
  {
   "cell_type": "code",
   "execution_count": 3,
   "metadata": {},
   "outputs": [],
   "source": [
    "\"\"\"'return' nos sirve para obtener el valor y despues usarlo\n",
    "usamos 'return' para devolver el valor, si fuese 'print' devolveria 'Nonetype'\"\"\"\n",
    "\n",
    "\n",
    "def suma(a, b,):\n",
    "    resultado = a+b\n",
    "    return resultado  # recuerden hacer el cambio de return por print para ver que sucede mas abajo"
   ]
  },
  {
   "cell_type": "code",
   "execution_count": 4,
   "metadata": {},
   "outputs": [
    {
     "name": "stdout",
     "output_type": "stream",
     "text": [
      "3\n"
     ]
    }
   ],
   "source": [
    "c = suma(1, 2)\n",
    "print(c)"
   ]
  },
  {
   "cell_type": "code",
   "execution_count": 5,
   "metadata": {},
   "outputs": [
    {
     "name": "stdout",
     "output_type": "stream",
     "text": [
      "5\n"
     ]
    }
   ],
   "source": [
    "d = suma(c, 2)\n",
    "print(d)"
   ]
  },
  {
   "cell_type": "code",
   "execution_count": 6,
   "metadata": {},
   "outputs": [],
   "source": [
    "def saludo(nombre,apellido):\n",
    "    return f\"buenos dias! tu nombre es {nombre} y de apellido {apellido}\""
   ]
  },
  {
   "cell_type": "code",
   "execution_count": 8,
   "metadata": {},
   "outputs": [
    {
     "data": {
      "text/plain": [
       "'buenos dias! tu nombre es jorge y de apellido lara'"
      ]
     },
     "execution_count": 8,
     "metadata": {},
     "output_type": "execute_result"
    }
   ],
   "source": [
    "saludo(\"jorge\",\"lara\")"
   ]
  },
  {
   "cell_type": "code",
   "execution_count": null,
   "metadata": {},
   "outputs": [
    {
     "data": {
      "text/plain": [
       "'buenos dias! tu nombre es pepita y de apellido deloustal'"
      ]
     },
     "execution_count": 94,
     "metadata": {},
     "output_type": "execute_result"
    }
   ],
   "source": [
    "saludo(apellido=\"deloustal\", nombre=\"pepita\")"
   ]
  },
  {
   "cell_type": "code",
   "execution_count": null,
   "metadata": {},
   "outputs": [],
   "source": [
    "tupla=(\"pepe\",\"julio\",\"martina\",\"isa\",\"pao\")"
   ]
  },
  {
   "cell_type": "code",
   "execution_count": null,
   "metadata": {},
   "outputs": [],
   "source": [
    "def saludos(*nombres):\n",
    "    \n",
    "    for n in nombres:\n",
    "        if len(n)>5:\n",
    "            print(f\"buenos dias {n}\")\n",
    "        else:\n",
    "            print(f\"{n} tiene un nombre muy corto!\")"
   ]
  },
  {
   "cell_type": "code",
   "execution_count": null,
   "metadata": {},
   "outputs": [
    {
     "name": "stdout",
     "output_type": "stream",
     "text": [
      "pepe tiene un nombre muy corto!\n",
      "julio tiene un nombre muy corto!\n",
      "buenos dias martina\n",
      "isa tiene un nombre muy corto!\n",
      "pao tiene un nombre muy corto!\n"
     ]
    }
   ],
   "source": [
    "#pasando los valores iterables como una tupla\n",
    "saludos(*tupla)"
   ]
  },
  {
   "cell_type": "code",
   "execution_count": null,
   "metadata": {},
   "outputs": [
    {
     "name": "stdout",
     "output_type": "stream",
     "text": [
      "isa tiene un nombre muy corto!\n",
      "paola tiene un nombre muy corto!\n",
      "buenos dias silvia\n",
      "buenos dias violaine\n"
     ]
    }
   ],
   "source": [
    "# pasando los valores iterables\n",
    "saludos(\"isa\",\"paola\",\"silvia\",\"violaine\")"
   ]
  },
  {
   "cell_type": "code",
   "execution_count": null,
   "metadata": {},
   "outputs": [],
   "source": [
    "alumnas = { \"nombre\":[\"Lorena\", \"Laura\", \"Loreto\"], \n",
    "            \"apellidos\": [\"López\", \"Rodriguez\", \"Luengo\"], \n",
    "            \"notas\": [[7,8,5,10],[8,6,9,10], [6,7,7,10] ]}"
   ]
  },
  {
   "cell_type": "code",
   "execution_count": null,
   "metadata": {},
   "outputs": [],
   "source": [
    "\n",
    "def notas_alumnas(bootcamp = \"Data Analytics\", **kwargs ):\n",
    "    \n",
    "    print(\"La media de las notas de las alumnas es: \")\n",
    "    # iniciamos un contador para ir iterando por cada elemento de diccionario\n",
    "    contador = 0\n",
    "\n",
    "    # usamos un while para determinar el número de veces que tenemos que iterar\n",
    "    while contador < len(kwargs): \n",
    "\n",
    "        # sacamos la media para cada una de las alumnas. Siguiendo la lógica de las celdas anteriores. Accederemos a la key sobre la que queremos calcular la media. Luego tendremos que indicar el índice del que queremos calcular la media. Para eso usaremos el contador. \n",
    "        media = sum(kwargs[\"notas\"][contador]) / len(kwargs[\"notas\"][contador])\n",
    "\n",
    "        # hacemos un print para saber que alumna es la que corresponde cada media calculada en el paso anterior\n",
    "        print(f'las media de {kwargs[\"nombre\"][contador]} {kwargs[\"apellidos\"][contador]} de {bootcamp} de  son: {media}')\n",
    "        \n",
    "       # sumamos 1 al contador para que en la siguiente iteración podamos acceder al elemento que esta en el indice 1, luego accederemos al elemento en posición 2, etc. \n",
    "        contador += 1"
   ]
  },
  {
   "cell_type": "code",
   "execution_count": null,
   "metadata": {},
   "outputs": [
    {
     "name": "stdout",
     "output_type": "stream",
     "text": [
      "La media de las notas de las alumnas es: \n",
      "las media de Lorena López de Data Analytics de  son: 7.5\n",
      "las media de Laura Rodriguez de Data Analytics de  son: 8.25\n",
      "las media de Loreto Luengo de Data Analytics de  son: 7.5\n"
     ]
    }
   ],
   "source": [
    "## llamamos a la función:\n",
    "notas_alumnas(**alumnas)"
   ]
  },
  {
   "cell_type": "code",
   "execution_count": null,
   "metadata": {},
   "outputs": [],
   "source": [
    "## argumentos y un poco mas!\n",
    "\n",
    "def funcion_ejemplo(arg1, arg2, *args, def_value1='valor1', def_value2='valor2', **kwargs):\n",
    "    print(\"Argumento posicional 1:\", arg1)\n",
    "    print(\"Argumento posicional 2:\", arg2)\n",
    "    print(\"Argumentos adicionales (*args):\", args)\n",
    "    print(\"Argumento con valor por defecto 1:\", def_value1)\n",
    "    print(\"Argumento con valor por defecto 2:\", def_value2)\n",
    "    print(\"Argumentos de palabra clave (**kwargs):\", kwargs)\n"
   ]
  },
  {
   "cell_type": "code",
   "execution_count": null,
   "metadata": {},
   "outputs": [
    {
     "name": "stdout",
     "output_type": "stream",
     "text": [
      "Argumento posicional 1: 1\n",
      "Argumento posicional 2: 2\n",
      "Argumentos adicionales (*args): (3, 4, 5)\n",
      "Argumento con valor por defecto 1: nuevo_valor1\n",
      "Argumento con valor por defecto 2: nuevo_valor2\n",
      "Argumentos de palabra clave (**kwargs): {'nombre': 'Juan', 'edad': 30}\n"
     ]
    }
   ],
   "source": [
    "# Ejemplo de uso:\n",
    "\n",
    "funcion_ejemplo(1, 2, 3, 4, 5, def_value1='nuevo_valor1', def_value2='nuevo_valor2', nombre='Juan', edad=30)"
   ]
  }
 ],
 "metadata": {
  "kernelspec": {
   "display_name": "base",
   "language": "python",
   "name": "python3"
  },
  "language_info": {
   "codemirror_mode": {
    "name": "ipython",
    "version": 3
   },
   "file_extension": ".py",
   "mimetype": "text/x-python",
   "name": "python",
   "nbconvert_exporter": "python",
   "pygments_lexer": "ipython3",
   "version": "3.9.7"
  }
 },
 "nbformat": 4,
 "nbformat_minor": 2
}
