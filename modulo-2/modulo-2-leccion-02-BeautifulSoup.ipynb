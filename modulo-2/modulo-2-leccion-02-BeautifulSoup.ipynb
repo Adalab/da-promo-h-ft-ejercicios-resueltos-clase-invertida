{
 "cells": [
  {
   "cell_type": "markdown",
   "metadata": {},
   "source": [
    "# Ejercicios\n",
    "\n",
    "1. Usa la [siguiente](https://es.wikipedia.org/wiki/Anexo:Medallero_de_los_Juegos_Ol%C3%ADmpicos_de_Tokio_2020) página web.\n",
    "\n",
    "2. Extrae la tabla de las medallas olímpicas que tenéis en la página web.\n",
    "\n",
    "3. Mete todo el código de la extracción de datos en una función.\n",
    "\n",
    "4. Los resultados deben estar en un *DataFrame* y hacer una exploración básica con los métodos aprendidos en la lección. "
   ]
  },
  {
   "cell_type": "code",
   "execution_count": null,
   "metadata": {},
   "outputs": [],
   "source": [
    "# como siempre...primero las librerias!\n",
    "\n",
    "import requests\n",
    "from bs4 import BeautifulSoup\n",
    "import pandas as pd"
   ]
  },
  {
   "cell_type": "code",
   "execution_count": 14,
   "metadata": {},
   "outputs": [],
   "source": [
    "# armo mi funcion en base a lo que se pidio:\n",
    "\n",
    "def extraer_medallas(url):\n",
    "    # Realizar la solicitud HTTP\n",
    "    response = requests.get(url)\n",
    "    \n",
    "    # Verificar si la solicitud fue exitosa\n",
    "    if response.status_code == 200:\n",
    "        # Parsear el contenido HTML\n",
    "        soup = BeautifulSoup(response.text, 'html.parser')\n",
    "        \n",
    "        # Encontrar la tabla de medallas por su clase CSS\n",
    "        table = soup.find('table', class_='wikitable')\n",
    "        \n",
    "        # Extraer los datos de la tabla y almacenarlos en una lista de listas\n",
    "        data = []\n",
    "        for row in table.find_all('tr'):\n",
    "            row_data = [cell.get_text(strip=True) for cell in row.find_all(['th', 'td'])]\n",
    "            data.append(row_data)\n",
    "        \n",
    "        # Crear un DataFrame a partir de los datos\n",
    "        df = pd.DataFrame(data[1:], columns=data[0])\n",
    "        \n",
    "        return df\n",
    "    else:\n",
    "        print(\"Error al realizar la solicitud HTTP.\")\n",
    "        return None"
   ]
  },
  {
   "cell_type": "code",
   "execution_count": 15,
   "metadata": {},
   "outputs": [
    {
     "data": {
      "text/html": [
       "<div>\n",
       "<style scoped>\n",
       "    .dataframe tbody tr th:only-of-type {\n",
       "        vertical-align: middle;\n",
       "    }\n",
       "\n",
       "    .dataframe tbody tr th {\n",
       "        vertical-align: top;\n",
       "    }\n",
       "\n",
       "    .dataframe thead th {\n",
       "        text-align: right;\n",
       "    }\n",
       "</style>\n",
       "<table border=\"1\" class=\"dataframe\">\n",
       "  <thead>\n",
       "    <tr style=\"text-align: right;\">\n",
       "      <th></th>\n",
       "      <th>Núm.</th>\n",
       "      <th>País</th>\n",
       "      <th></th>\n",
       "      <th></th>\n",
       "      <th></th>\n",
       "      <th>Total</th>\n",
       "    </tr>\n",
       "  </thead>\n",
       "  <tbody>\n",
       "    <tr>\n",
       "      <th>0</th>\n",
       "      <td>1</td>\n",
       "      <td>Estados Unidos(USA)</td>\n",
       "      <td>39</td>\n",
       "      <td>41</td>\n",
       "      <td>33</td>\n",
       "      <td>113</td>\n",
       "    </tr>\n",
       "    <tr>\n",
       "      <th>1</th>\n",
       "      <td>2</td>\n",
       "      <td>China(CHN)</td>\n",
       "      <td>38</td>\n",
       "      <td>32</td>\n",
       "      <td>19</td>\n",
       "      <td>89</td>\n",
       "    </tr>\n",
       "    <tr>\n",
       "      <th>2</th>\n",
       "      <td>3</td>\n",
       "      <td>Japón(JPN)</td>\n",
       "      <td>27</td>\n",
       "      <td>14</td>\n",
       "      <td>17</td>\n",
       "      <td>58</td>\n",
       "    </tr>\n",
       "    <tr>\n",
       "      <th>3</th>\n",
       "      <td>4</td>\n",
       "      <td>Reino Unido(GBR)</td>\n",
       "      <td>22</td>\n",
       "      <td>20</td>\n",
       "      <td>22</td>\n",
       "      <td>64</td>\n",
       "    </tr>\n",
       "    <tr>\n",
       "      <th>4</th>\n",
       "      <td>5</td>\n",
       "      <td>ROC(ROC)</td>\n",
       "      <td>20</td>\n",
       "      <td>28</td>\n",
       "      <td>23</td>\n",
       "      <td>71</td>\n",
       "    </tr>\n",
       "  </tbody>\n",
       "</table>\n",
       "</div>"
      ],
      "text/plain": [
       "  Núm.                 País             Total\n",
       "0    1  Estados Unidos(USA)  39  41  33   113\n",
       "1    2           China(CHN)  38  32  19    89\n",
       "2    3           Japón(JPN)  27  14  17    58\n",
       "3    4     Reino Unido(GBR)  22  20  22    64\n",
       "4    5             ROC(ROC)  20  28  23    71"
      ]
     },
     "execution_count": 15,
     "metadata": {},
     "output_type": "execute_result"
    }
   ],
   "source": [
    "# URL de la página web\n",
    "url = \"https://es.wikipedia.org/wiki/Anexo:Medallero_de_los_Juegos_Ol%C3%ADmpicos_de_Tokio_2020\"\n",
    "\n",
    "# Extraer la tabla de medallas olímpicas y almacenarla en un DataFrame\n",
    "medals_df = extract_medals_table(url)\n",
    "\n",
    "# Mostrar las primeras filas del DataFrame\n",
    "medals_df.head()"
   ]
  }
 ],
 "metadata": {
  "kernelspec": {
   "display_name": "promoe",
   "language": "python",
   "name": "python3"
  },
  "language_info": {
   "codemirror_mode": {
    "name": "ipython",
    "version": 3
   },
   "file_extension": ".py",
   "mimetype": "text/x-python",
   "name": "python",
   "nbconvert_exporter": "python",
   "pygments_lexer": "ipython3",
   "version": "3.9.7"
  },
  "orig_nbformat": 4
 },
 "nbformat": 4,
 "nbformat_minor": 2
}
