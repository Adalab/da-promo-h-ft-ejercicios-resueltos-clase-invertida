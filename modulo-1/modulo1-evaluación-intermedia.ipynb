{
 "cells": [
  {
   "cell_type": "markdown",
   "metadata": {},
   "source": [
    "### Parte 1: Strings"
   ]
  },
  {
   "cell_type": "code",
   "execution_count": 5,
   "metadata": {},
   "outputs": [
    {
     "name": "stdout",
     "output_type": "stream",
     "text": [
      "La letra \"J\" aparece 1 veces en la cadena.\n"
     ]
    }
   ],
   "source": [
    "# ejercicio 1\n",
    "cadena = \"Python es un lenguaje de programación muy popular\"\n",
    "letra = input(\"ingresa una letra a buscar!:\")\n",
    "contador = cadena.lower().count(letra.lower())\n",
    "print(f'La letra \"{letra}\" aparece {contador} veces en la cadena.')"
   ]
  },
  {
   "cell_type": "code",
   "execution_count": 7,
   "metadata": {},
   "outputs": [
    {
     "name": "stdout",
     "output_type": "stream",
     "text": [
      "Python es horrible. Python es fácil de aprender.\n"
     ]
    }
   ],
   "source": [
    "# ejercicio 2\n",
    "cadena = \"Python es genial. Python es fácil de aprender.\"\n",
    "palabra_reemplazar = input(\"¿Qué palabra quieres reemplazar?\").lower()\n",
    "palabra_nueva = input(\"Por que cadena quieres reemplazarla?\").lower()\n",
    "nueva_cadena = cadena.replace(palabra_reemplazar, palabra_nueva)\n",
    "print(nueva_cadena)"
   ]
  },
  {
   "cell_type": "code",
   "execution_count": 8,
   "metadata": {},
   "outputs": [
    {
     "name": "stdout",
     "output_type": "stream",
     "text": [
      "['Esto', 'es', 'una', 'oración', 'de', 'ejemplo']\n",
      "Esto es una oración de ejemplo\n"
     ]
    }
   ],
   "source": [
    "# ejercicio 3\n",
    "oracion = \"Esto es una oración de ejemplo\"\n",
    "lista_palabras = oracion.split()\n",
    "print(lista_palabras)\n",
    "nueva_oracion = \" \".join(lista_palabras)\n",
    "print(nueva_oracion)"
   ]
  },
  {
   "cell_type": "code",
   "execution_count": 11,
   "metadata": {},
   "outputs": [
    {
     "name": "stdout",
     "output_type": "stream",
     "text": [
      "La cadena tiene 7 palabras.\n"
     ]
    }
   ],
   "source": [
    "# ejercicio 4\n",
    "cadena = \"Esta es una cadena con cinco palabras\"\n",
    "#cadena = input(\"ingrese su frase aqui!:\")\n",
    "palabras = cadena.split()\n",
    "cantidad_palabras = len(palabras)\n",
    "print(f'La cadena tiene {cantidad_palabras} palabras.')"
   ]
  },
  {
   "cell_type": "code",
   "execution_count": 2,
   "metadata": {},
   "outputs": [
    {
     "name": "stdout",
     "output_type": "stream",
     "text": [
      "repaso un es esto\n"
     ]
    }
   ],
   "source": [
    "# Ejercicio 5\n",
    "texto = input(\"Dime la frase que quieras dar la vuelta\")\n",
    "texto = texto.split()\n",
    "resultado = texto[::-1]\n",
    "print(\" \".join(resultado))"
   ]
  },
  {
   "cell_type": "code",
   "execution_count": 3,
   "metadata": {},
   "outputs": [
    {
     "name": "stdout",
     "output_type": "stream",
     "text": [
      "La cadena de texto invertida es: osaper orto se otse\n"
     ]
    }
   ],
   "source": [
    "# Ejercicio 5 variante\n",
    "cadena_original = input(\"Por favor, ingresa una cadena de texto: \")\n",
    "cadena_invertida = ''.join(reversed(cadena_original))\n",
    "print(\"La cadena de texto invertida es:\", cadena_invertida)"
   ]
  },
  {
   "cell_type": "code",
   "execution_count": 9,
   "metadata": {},
   "outputs": [
    {
     "name": "stdout",
     "output_type": "stream",
     "text": [
      "La subcadena \"lenguaje\" se encuentra en la posición 13.\n"
     ]
    }
   ],
   "source": [
    "# Ejercicio 6\n",
    "cadena = \"Python es un lenguaje de programación\"\n",
    "subcadena = \"lenguaje\"\n",
    "indice = cadena.find(subcadena)\n",
    "if indice != -1:\n",
    "    print(f'La subcadena \"{subcadena}\" se encuentra en la posición {indice}.')\n",
    "else:\n",
    "    print(f'La subcadena \"{subcadena}\" no se encuentra en la cadena.')"
   ]
  },
  {
   "cell_type": "markdown",
   "metadata": {},
   "source": [
    "\n",
    "### **Parte 2: Listas**\n",
    "\n",
    "1. Dada la siguiente lista: `frutas = ['manzana', 'pera', 'banana', 'uva', 'kiwi']`, realiza lo siguiente:\n",
    "   a) Reemplaza el segundo elemento con 'durazno'.\n",
    "   b) Agrega 'naranja' al final de la lista.\n",
    "   c) Extrae y muestra por pantalla el tercer elemento de la lista.\n",
    "   \n",
    "\n",
    "2. Crea una lista llamada `numeros` que contenga los siguientes valores: 10, 25, 15, 30, 20.\n",
    "\n",
    "3. Agrega el valor 35 al incio de la lista `numeros`.\n",
    "\n",
    "4. Ordena la lista `numeros` en orden ascendente.\n",
    "\n",
    "5. Dada la siguiente lista `numeros2 = [45, 22, 19, 38, 29]`. Crea una nueva lista llamada `numeros3` donde tengamos la unión de los todos los elementos de las dos listas de tal forma que el resultado final sea: \n",
    "\n",
    "   ```python\n",
    "   numeros3 = [10, 25, 15, 30, 20, 45, 22, 19, 38, 29]\n",
    "   ```\n",
    "\n",
    "6. Elimina el último elemento de la lista `numeros3`.\n",
    "\n",
    "7. Elimina el número 30 de la lista `numeros3`. "
   ]
  },
  {
   "cell_type": "code",
   "execution_count": 10,
   "metadata": {},
   "outputs": [],
   "source": [
    "frutas = ['manzana', 'pera', 'banana', 'uva', 'kiwi']"
   ]
  },
  {
   "cell_type": "code",
   "execution_count": 11,
   "metadata": {},
   "outputs": [
    {
     "name": "stdout",
     "output_type": "stream",
     "text": [
      "banana\n"
     ]
    }
   ],
   "source": [
    "# Reemplaza el segundo elemento con 'durazno'.\n",
    "frutas[1] = \"durazno\"\n",
    "\n",
    "# Agrega 'naranja' al final de la lista.\n",
    "frutas.append(\"naranja\")\n",
    "\n",
    "# Extrae y muestra por pantalla el tercer elemento de la lista.\n",
    "print(frutas[2])"
   ]
  },
  {
   "cell_type": "code",
   "execution_count": 23,
   "metadata": {},
   "outputs": [],
   "source": [
    "numeros = [10, 25, 15, 30, 20]"
   ]
  },
  {
   "cell_type": "code",
   "execution_count": 24,
   "metadata": {},
   "outputs": [
    {
     "name": "stdout",
     "output_type": "stream",
     "text": [
      "[35, 10, 25, 15, 30, 20]\n"
     ]
    }
   ],
   "source": [
    "# Agrega el valor 35 al incio de la lista `numeros`.\n",
    "numeros.insert(0,35)\n",
    "print(numeros)"
   ]
  },
  {
   "cell_type": "code",
   "execution_count": 15,
   "metadata": {},
   "outputs": [
    {
     "name": "stdout",
     "output_type": "stream",
     "text": [
      "[10, 15, 20, 25, 30, 35]\n"
     ]
    }
   ],
   "source": [
    "# Ordena la lista `numeros` en orden ascendente\n",
    "numeros.sort()\n",
    "print(numeros)"
   ]
  },
  {
   "cell_type": "code",
   "execution_count": 25,
   "metadata": {},
   "outputs": [],
   "source": [
    "numeros2 = [45, 22, 19, 38, 29]"
   ]
  },
  {
   "cell_type": "code",
   "execution_count": 26,
   "metadata": {},
   "outputs": [
    {
     "name": "stdout",
     "output_type": "stream",
     "text": [
      "[35, 10, 25, 15, 30, 20, 45, 22, 19, 38, 29]\n"
     ]
    }
   ],
   "source": [
    "# Crea una nueva lista llamada `numeros3` donde tengamos la unión de los todos los elementos de las dos listas\n",
    "numeros.extend(numeros2)\n",
    "numeros3 = numeros.copy()\n",
    "print(numeros3)"
   ]
  },
  {
   "cell_type": "code",
   "execution_count": 27,
   "metadata": {},
   "outputs": [
    {
     "name": "stdout",
     "output_type": "stream",
     "text": [
      "[35, 10, 25, 15, 30, 20, 45, 22, 19, 38]\n"
     ]
    }
   ],
   "source": [
    "# Elimina el último elemento de la lista `numeros3`.\n",
    "numeros3.pop()\n",
    "print(numeros3)"
   ]
  },
  {
   "cell_type": "code",
   "execution_count": 28,
   "metadata": {},
   "outputs": [
    {
     "name": "stdout",
     "output_type": "stream",
     "text": [
      "[35, 10, 25, 15, 20, 45, 22, 19, 38]\n"
     ]
    }
   ],
   "source": [
    "# Elimina el número 30 de la lista `numeros3`.\n",
    "numeros3.remove(30)\n",
    "print(numeros3)"
   ]
  },
  {
   "cell_type": "markdown",
   "metadata": {},
   "source": [
    "### **Parte 3: Tuplas**\n",
    "\n",
    "1. Crea una tupla llamada `colores` que contenga los siguientes valores: 'rojo', 'verde', 'azul', 'amarillo', 'morado'.\n",
    "\n",
    "2. Encuentra el índice de 'verde' en la tupla `colores`.\n",
    "\n",
    "3. ¿Cuántas veces aparece 'azul' en la tupla `colores`?.\n",
    "\n",
    "4. Añade el color \"morado\" a la tupla `colores`. Añade el color \"morado\" a la tupla `colores`. ¿Qué ha pasado? ¿Por qué?  Como podríamos añadir el elemento \"morado\".\n"
   ]
  },
  {
   "cell_type": "code",
   "execution_count": 40,
   "metadata": {},
   "outputs": [],
   "source": [
    "colores = ('rojo', 'verde', 'azul', 'amarillo', 'morado')"
   ]
  },
  {
   "cell_type": "code",
   "execution_count": 35,
   "metadata": {},
   "outputs": [
    {
     "data": {
      "text/plain": [
       "1"
      ]
     },
     "execution_count": 35,
     "metadata": {},
     "output_type": "execute_result"
    }
   ],
   "source": [
    "# Encuentra el índice de 'verde' en la tupla `colores`\n",
    "colores.index(\"verde\")"
   ]
  },
  {
   "cell_type": "code",
   "execution_count": 41,
   "metadata": {},
   "outputs": [
    {
     "data": {
      "text/plain": [
       "1"
      ]
     },
     "execution_count": 41,
     "metadata": {},
     "output_type": "execute_result"
    }
   ],
   "source": [
    "# ¿Cuántas veces aparece 'azul' en la tupla `colores`?.\n",
    "colores.count(\"azul\")"
   ]
  },
  {
   "cell_type": "code",
   "execution_count": 42,
   "metadata": {},
   "outputs": [
    {
     "ename": "AttributeError",
     "evalue": "'tuple' object has no attribute 'append'",
     "output_type": "error",
     "traceback": [
      "\u001b[0;31m---------------------------------------------------------------------------\u001b[0m",
      "\u001b[0;31mAttributeError\u001b[0m                            Traceback (most recent call last)",
      "\u001b[0;32m/tmp/ipykernel_3378/790834857.py\u001b[0m in \u001b[0;36m<module>\u001b[0;34m\u001b[0m\n\u001b[1;32m      1\u001b[0m \u001b[0;31m# Añade el color \"morado\" a la tupla `colores`. ¿Qué ha pasado? ¿Por qué?\u001b[0m\u001b[0;34m\u001b[0m\u001b[0;34m\u001b[0m\u001b[0m\n\u001b[0;32m----> 2\u001b[0;31m \u001b[0mcolores\u001b[0m\u001b[0;34m.\u001b[0m\u001b[0mappend\u001b[0m\u001b[0;34m(\u001b[0m\u001b[0;34m\"morado\"\u001b[0m\u001b[0;34m)\u001b[0m\u001b[0;34m\u001b[0m\u001b[0;34m\u001b[0m\u001b[0m\n\u001b[0m",
      "\u001b[0;31mAttributeError\u001b[0m: 'tuple' object has no attribute 'append'"
     ]
    }
   ],
   "source": [
    "# Añade el color \"morado\" a la tupla `colores`. ¿Qué ha pasado? ¿Por qué?\n",
    "colores.append(\"morado\")"
   ]
  },
  {
   "cell_type": "code",
   "execution_count": 43,
   "metadata": {},
   "outputs": [
    {
     "data": {
      "text/plain": [
       "('rojo', 'verde', 'azul', 'amarillo', 'morado', 'morado')"
      ]
     },
     "execution_count": 43,
     "metadata": {},
     "output_type": "execute_result"
    }
   ],
   "source": [
    "lista_colores = list(colores)\n",
    "lista_colores.append(\"morado\")\n",
    "tuple(lista_colores)"
   ]
  },
  {
   "cell_type": "markdown",
   "metadata": {},
   "source": [
    "### **Parte 4: Diccionarios**\n",
    "\n",
    "1. Crea un diccionario llamado `frutas` con las siguientes parejas clave-valor:\n",
    "   - 'manzana': 2\n",
    "   - 'banana': 3\n",
    "   - 'uva': 5\n",
    "   - 'pera': 4\n",
    "\n",
    "2. Saca una **lista** de todas las frutas en el diccionario.\n",
    "\n",
    "3. Saca una **lista** de todas las cantidades en el diccionario.\n",
    "\n",
    "4. ¿Qué cantidad de 'manzana' tenemos?. Si la clave'manzana' no está presente, devuelve un mensaje de error.\n",
    "\n",
    "5. Agrega un nuevo par de clave-valor al diccionario `frutas`: 'kiwi' con una cantidad de 6.\n",
    "\n",
    "6. Cambia la cantidad de 'uva' a 8.\n",
    "\n",
    "7. Crea un segundo diccionario llamado `frutas_nuevas` con las siguientes parejas clave-valor:\n",
    "   - 'sandía': 7\n",
    "   - 'mango': 4\n",
    "\n",
    "\n",
    "8. Combinar los dos diccionarios `frutas_nuevas` y `frutas` en uno solo llamado `frutas_total`.\n",
    "\n",
    "9. Elimina el último par de clave-valor del diccionario `fruta`.\n",
    "\n",
    "10. Elimina el par de clave-valor correspondiente a la clave 'uva' del diccionario.\n",
    "\n",
    "11. Agregar la fruta 'manzana' con una cantidad de 10 al diccionario. Si ya existe, no se realizarán cambios en los valores que teníamos.\n",
    "\n",
    "12. **BONUS** Combinar métodos de listas y diccionarios: \n",
    "\n",
    "    -  Obtén una lista de todas las cantidades en el diccionario y calcula suma total de las cantidades del diccionario `frutas_total`.\n",
    "\n",
    "    - Utilizando la lista creada en el apartado anterior encuentra la cantidad más grande y más pequeña.\n"
   ]
  },
  {
   "cell_type": "code",
   "execution_count": 62,
   "metadata": {},
   "outputs": [],
   "source": [
    "frutas = {'manzana': 2, \n",
    "          'banana': 3, \n",
    "          'uva': 5,\n",
    "          'pera': 4}"
   ]
  },
  {
   "cell_type": "code",
   "execution_count": 63,
   "metadata": {},
   "outputs": [
    {
     "data": {
      "text/plain": [
       "['manzana', 'banana', 'uva', 'pera']"
      ]
     },
     "execution_count": 63,
     "metadata": {},
     "output_type": "execute_result"
    }
   ],
   "source": [
    "# Saca una **lista** de todas las frutas en el diccionario\n",
    "claves = list(frutas.keys())\n",
    "claves"
   ]
  },
  {
   "cell_type": "code",
   "execution_count": 64,
   "metadata": {},
   "outputs": [
    {
     "data": {
      "text/plain": [
       "[2, 3, 5, 4]"
      ]
     },
     "execution_count": 64,
     "metadata": {},
     "output_type": "execute_result"
    }
   ],
   "source": [
    "#  Saca una **lista** de todas las cantidades en el diccionario.\n",
    "valores = list(frutas.values())\n",
    "valores"
   ]
  },
  {
   "cell_type": "code",
   "execution_count": 65,
   "metadata": {},
   "outputs": [
    {
     "data": {
      "text/plain": [
       "2"
      ]
     },
     "execution_count": 65,
     "metadata": {},
     "output_type": "execute_result"
    }
   ],
   "source": [
    "# ¿Qué cantidad de 'manzana' tenemos?. Si la clave'manzana' no está presente, devuelve un mensaje diciendo \"No existe esa clave\".\n",
    "frutas.get(\"manzana\",\"el valor no existe\")"
   ]
  },
  {
   "cell_type": "code",
   "execution_count": 66,
   "metadata": {},
   "outputs": [
    {
     "data": {
      "text/plain": [
       "{'manzana': 2, 'banana': 3, 'uva': 5, 'pera': 4, 'kiwi': 2}"
      ]
     },
     "execution_count": 66,
     "metadata": {},
     "output_type": "execute_result"
    }
   ],
   "source": [
    "# Agrega un nuevo par de clave-valor al diccionario `frutas`: 'kiwi' con una cantidad de 6.\n",
    "\n",
    "# FORMA 1\n",
    "frutas[\"kiwi\"] = 2\n",
    "\n",
    "# FORMA 2\n",
    "frutas.update({\"kiwi\": 2})\n",
    "\n",
    "frutas"
   ]
  },
  {
   "cell_type": "code",
   "execution_count": 67,
   "metadata": {},
   "outputs": [
    {
     "data": {
      "text/plain": [
       "{'manzana': 2, 'banana': 3, 'uva': 8, 'pera': 4, 'kiwi': 2}"
      ]
     },
     "execution_count": 67,
     "metadata": {},
     "output_type": "execute_result"
    }
   ],
   "source": [
    "# Cambia la cantidad de 'uva' a 8.\n",
    "\n",
    "# FORMA 1\n",
    "frutas[\"uva\"] = 8\n",
    "\n",
    "# FROMA 2\n",
    "frutas.update({\"uva\": 8})\n",
    "\n",
    "frutas"
   ]
  },
  {
   "cell_type": "code",
   "execution_count": 68,
   "metadata": {},
   "outputs": [
    {
     "data": {
      "text/plain": [
       "{'sandia': 7, 'mango': 4}"
      ]
     },
     "execution_count": 68,
     "metadata": {},
     "output_type": "execute_result"
    }
   ],
   "source": [
    "frutas_nuevas = {\"sandia\": 7, \"mango\": 4}\n",
    "frutas_nuevas"
   ]
  },
  {
   "cell_type": "code",
   "execution_count": 69,
   "metadata": {},
   "outputs": [
    {
     "data": {
      "text/plain": [
       "{'manzana': 2,\n",
       " 'banana': 3,\n",
       " 'uva': 8,\n",
       " 'pera': 4,\n",
       " 'kiwi': 2,\n",
       " 'sandia': 7,\n",
       " 'mango': 4}"
      ]
     },
     "execution_count": 69,
     "metadata": {},
     "output_type": "execute_result"
    }
   ],
   "source": [
    "# Combinar los dos diccionarios `frutas_nuevas` y `frutas` en uno solo llamado `frutas_total`.\n",
    "\n",
    "# FROMA 1\n",
    "frutas.update(frutas_nuevas)\n",
    "frutas_total = frutas.copy()\n",
    "frutas_total"
   ]
  },
  {
   "cell_type": "code",
   "execution_count": 70,
   "metadata": {},
   "outputs": [
    {
     "data": {
      "text/plain": [
       "{'manzana': 2,\n",
       " 'banana': 3,\n",
       " 'uva': 8,\n",
       " 'pera': 4,\n",
       " 'kiwi': 2,\n",
       " 'sandia': 7,\n",
       " 'mango': 4}"
      ]
     },
     "execution_count": 70,
     "metadata": {},
     "output_type": "execute_result"
    }
   ],
   "source": [
    "# FROMA 2\n",
    "diccionario_combinado = {**frutas, **frutas_nuevas}\n",
    "diccionario_combinado"
   ]
  },
  {
   "cell_type": "code",
   "execution_count": 71,
   "metadata": {},
   "outputs": [
    {
     "data": {
      "text/plain": [
       "{'manzana': 2, 'banana': 3, 'uva': 8, 'pera': 4, 'kiwi': 2, 'sandia': 7}"
      ]
     },
     "execution_count": 71,
     "metadata": {},
     "output_type": "execute_result"
    }
   ],
   "source": [
    "#Elimina el último par de clave-valor del diccionario `fruta_total`.\n",
    "frutas_total.popitem()\n",
    "frutas_total"
   ]
  },
  {
   "cell_type": "code",
   "execution_count": 72,
   "metadata": {},
   "outputs": [
    {
     "data": {
      "text/plain": [
       "{'manzana': 2, 'banana': 3, 'pera': 4, 'kiwi': 2, 'sandia': 7}"
      ]
     },
     "execution_count": 72,
     "metadata": {},
     "output_type": "execute_result"
    }
   ],
   "source": [
    "# Elimina el par de clave-valor correspondiente a la clave 'uva' del diccionario.\n",
    "frutas_total.pop(\"uva\")\n",
    "frutas_total"
   ]
  },
  {
   "cell_type": "code",
   "execution_count": 73,
   "metadata": {},
   "outputs": [
    {
     "data": {
      "text/plain": [
       "{'manzana': 2, 'banana': 3, 'pera': 4, 'kiwi': 2, 'sandia': 7}"
      ]
     },
     "execution_count": 73,
     "metadata": {},
     "output_type": "execute_result"
    }
   ],
   "source": [
    "#  Agregar la fruta 'manzana' con una cantidad de 10 al diccionario. Si ya existe, no se realizarán cambios en los valores que teníamos.\n",
    "\n",
    "frutas_total.setdefault(\"manzana\", 10)\n",
    "frutas_total"
   ]
  },
  {
   "cell_type": "markdown",
   "metadata": {},
   "source": [
    "\n",
    "12. **BONUS** Combinar métodos de listas y diccionarios: \n",
    "\n",
    "    -  Obtén una lista de todas las cantidades en el diccionario y calcula suma total de las cantidades del diccionario `frutas_total`.\n",
    "\n",
    "    - Utilizando la lista creada en el apartado anterior encuentra la cantidad más grande y más pequeña"
   ]
  },
  {
   "cell_type": "code",
   "execution_count": 74,
   "metadata": {},
   "outputs": [
    {
     "data": {
      "text/plain": [
       "[2, 3, 4, 2, 7]"
      ]
     },
     "execution_count": 74,
     "metadata": {},
     "output_type": "execute_result"
    }
   ],
   "source": [
    "cantidades = list(frutas_total.values())\n",
    "cantidades"
   ]
  },
  {
   "cell_type": "code",
   "execution_count": 75,
   "metadata": {},
   "outputs": [
    {
     "data": {
      "text/plain": [
       "18"
      ]
     },
     "execution_count": 75,
     "metadata": {},
     "output_type": "execute_result"
    }
   ],
   "source": [
    "# suma de las cantidades\n",
    "\n",
    "sum(cantidades)"
   ]
  },
  {
   "cell_type": "code",
   "execution_count": 76,
   "metadata": {},
   "outputs": [
    {
     "name": "stdout",
     "output_type": "stream",
     "text": [
      "2\n",
      "7\n"
     ]
    }
   ],
   "source": [
    "# minimo de cantidades\n",
    "print(min(cantidades))\n",
    "# máximo de cantidades\n",
    "print(max(cantidades))"
   ]
  },
  {
   "cell_type": "markdown",
   "metadata": {},
   "source": [
    "\n",
    "### **Parte 5: Métodos de Sets**\n",
    "\n",
    "1. Crea un set llamado `conjunto1` con los números del 1 al 5.\n",
    "\n",
    "2. Crea otro set llamado `conjunto2` con los números del 4 al 8.\n",
    "\n",
    "3. Obtén la unión de `conjunto1` y `conjunto2`.\n",
    "\n",
    "4. Obtén la intersección de `conjunto1` y `conjunto2`.\n",
    "\n",
    "5. Obtén los elementos que están en `conjunto1` pero no en `conjunto2`."
   ]
  },
  {
   "cell_type": "code",
   "execution_count": 77,
   "metadata": {},
   "outputs": [
    {
     "data": {
      "text/plain": [
       "{1, 2, 3, 4, 5}"
      ]
     },
     "execution_count": 77,
     "metadata": {},
     "output_type": "execute_result"
    }
   ],
   "source": [
    "conjunto1 = set(range(1,6))\n",
    "conjunto1"
   ]
  },
  {
   "cell_type": "code",
   "execution_count": 78,
   "metadata": {},
   "outputs": [
    {
     "data": {
      "text/plain": [
       "{4, 5, 6, 7}"
      ]
     },
     "execution_count": 78,
     "metadata": {},
     "output_type": "execute_result"
    }
   ],
   "source": [
    "conjunto2 = set(range(4,8))\n",
    "conjunto2"
   ]
  },
  {
   "cell_type": "code",
   "execution_count": 79,
   "metadata": {},
   "outputs": [
    {
     "data": {
      "text/plain": [
       "{1, 2, 3, 4, 5, 6, 7}"
      ]
     },
     "execution_count": 79,
     "metadata": {},
     "output_type": "execute_result"
    }
   ],
   "source": [
    "# Obtén la unión de `conjunto1` y `conjunto2`.\n",
    "union_sets = conjunto1.union(conjunto2)\n",
    "union_sets"
   ]
  },
  {
   "cell_type": "code",
   "execution_count": 80,
   "metadata": {},
   "outputs": [
    {
     "data": {
      "text/plain": [
       "{4, 5}"
      ]
     },
     "execution_count": 80,
     "metadata": {},
     "output_type": "execute_result"
    }
   ],
   "source": [
    "# Obtén la intersección de `conjunto1` y `conjunto2`.\n",
    "interseccion = conjunto1.intersection(conjunto2)\n",
    "interseccion"
   ]
  },
  {
   "cell_type": "code",
   "execution_count": 81,
   "metadata": {},
   "outputs": [
    {
     "data": {
      "text/plain": [
       "{1, 2, 3}"
      ]
     },
     "execution_count": 81,
     "metadata": {},
     "output_type": "execute_result"
    }
   ],
   "source": [
    "# Obtén los elementos que están en `conjunto1` pero no en `conjunto2`.\n",
    "diferencia = conjunto1.difference(conjunto2)\n",
    "diferencia"
   ]
  },
  {
   "cell_type": "markdown",
   "metadata": {},
   "source": [
    "\n",
    "### **Parte 6: Sentencias de Control**\n",
    "\n"
   ]
  },
  {
   "cell_type": "markdown",
   "metadata": {},
   "source": [
    "\n",
    "- Ejercicio 1: Evaluación de Edades: \n",
    "\n",
    "    - Escribe un programa que solicite al usuario ingresar su edad.\n",
    "\n",
    "    - Si la edad es menor de 18, muestra \"Eres menor de edad\".\n",
    "\n",
    "    - Si la edad está entre 18 y 65 (incluyendo ambos extremos), muestra \"Eres adulto\".\n",
    "\n",
    "    - Si la edad es mayor o igual a 65, muestra \"Eres un adulto mayor\"."
   ]
  },
  {
   "cell_type": "code",
   "execution_count": 85,
   "metadata": {},
   "outputs": [
    {
     "name": "stdout",
     "output_type": "stream",
     "text": [
      "70\n",
      "Eres un adulto mayor\n"
     ]
    }
   ],
   "source": [
    "edad = int(input(\"¿Que edad tienes?\"))\n",
    "print(edad)\n",
    "\n",
    "if edad < 18:\n",
    "    print(\"Eres menor de edad\")\n",
    "elif edad >= 18 and edad <= 65:\n",
    "    print(\"Eres adulto\")\n",
    "else:\n",
    "    print(\"Eres un adulto mayor\")"
   ]
  },
  {
   "cell_type": "markdown",
   "metadata": {},
   "source": [
    "\n",
    "\n",
    "- Ejercicio 2: Determinación de Día de la Semana\n",
    "\n",
    "    - Solicita al usuario que ingrese un número del 1 al 7.\n",
    "\n",
    "    - Utilizando una serie de `if-elif-else`, muestra el día de la semana correspondiente al número ingresado. Por ejemplo, si ingresa 1, muestra \"Lunes\"."
   ]
  },
  {
   "cell_type": "code",
   "execution_count": 88,
   "metadata": {},
   "outputs": [
    {
     "name": "stdout",
     "output_type": "stream",
     "text": [
      "No es un dia de la semana\n"
     ]
    }
   ],
   "source": [
    "dia_semana = int(input(\"Ingresa un número del 1 al 7\"))\n",
    "\n",
    "if dia_semana == 1:\n",
    "    print(\"Es Lunes\")\n",
    "\n",
    "elif dia_semana == 2:\n",
    "    print(\"Es Martes\")\n",
    "\n",
    "elif dia_semana == 3:\n",
    "    print(\"Es Miércoles\")\n",
    "\n",
    "elif dia_semana == 4:\n",
    "    print(\"Es Jueves\")\n",
    "    \n",
    "elif dia_semana == 5:\n",
    "    print(\"Es Viernes\")\n",
    "    \n",
    "elif dia_semana == 6:\n",
    "    print(\"Es Sábado\")\n",
    "    \n",
    "elif dia_semana == 7:\n",
    "    print(\"Es Domingo\")\n",
    "\n",
    "else:\n",
    "    print(\"No es un dia de la semana\")"
   ]
  },
  {
   "cell_type": "code",
   "execution_count": 50,
   "metadata": {},
   "outputs": [
    {
     "name": "stdout",
     "output_type": "stream",
     "text": [
      "Sábado\n"
     ]
    }
   ],
   "source": [
    "# Opción con diccionario:\n",
    "\n",
    "dia = \"6\"\n",
    "\n",
    "dias_semana = {\n",
    "    \"1\": 'Lunes',\n",
    "    \"2\": 'Martes',\n",
    "    \"3\": 'Miércoles',\n",
    "    \"4\": 'Jueves',\n",
    "    \"5\": 'Viernes',\n",
    "    \"6\": 'Sábado',\n",
    "    \"7\": 'Domingo'\n",
    "}\n",
    "\n",
    "if dia in dias_semana.keys():\n",
    "    print(dias_semana[dia])\n",
    "\n",
    "else:\n",
    "    print(\"esto no es un día de la semana\")"
   ]
  },
  {
   "cell_type": "markdown",
   "metadata": {},
   "source": [
    "- Ejercicio 3: Juego de Adivinanza\n",
    "\n",
    "    -  Genera un número aleatorio entre 1 y 100.\n",
    "\n",
    "    -  Pídele al usuario que adivine el número.\n",
    "\n",
    "    - Si el usuario adivina correctamente en el primer intento, muestra \"¡Ganaste en el primer intento!\".\n",
    "    \n",
    "    - Si el usuario no adivina en el primer intento, bríndale pistas (mayor o menor) y permite que intente nuevamente. Muestra cuántos intentos le llevó al final."
   ]
  },
  {
   "cell_type": "code",
   "execution_count": 89,
   "metadata": {},
   "outputs": [
    {
     "name": "stdout",
     "output_type": "stream",
     "text": [
      "lo siento no has acertado, intentalo de nuevo\n",
      "lo siento no has acertado, intentalo de nuevo\n",
      "lo siento no has acertado, intentalo de nuevo\n",
      "Perfecto, el numero era 89 lo has acertado despues de 4 intentos\n"
     ]
    }
   ],
   "source": [
    "numero = 89\n",
    "\n",
    "adivina_numero = int(input(\"Pasa un numero entero entre 1 y 100\"))\n",
    "\n",
    "intentos = 1\n",
    "\n",
    "while numero != adivina_numero:\n",
    "    print(\"lo siento no has acertado, intentalo de nuevo\")\n",
    "    adivina_numero = int(input(\"Pasa un numero entero entre 1 y 100\"))\n",
    "    intentos += 1\n",
    "     \n",
    "print(f\"Perfecto, el numero era {adivina_numero} lo has acertado despues de {intentos} intentos\")"
   ]
  },
  {
   "cell_type": "code",
   "execution_count": null,
   "metadata": {},
   "outputs": [],
   "source": [
    "# Importamos el módulo random para generar un número aleatorio.\n",
    "import random\n",
    "\n",
    "# Generamos un número aleatorio entre 1 y 100 y lo almacenamos en la variable numero_aleatorio.\n",
    "numero_aleatorio = random.randint(1, 100)\n",
    "\n",
    "# Inicializamos la variable intentos en 0, que contará cuántos intentos ha realizado el usuario.\n",
    "intentos = 0\n",
    "\n",
    "# Iniciamos un bucle while que se ejecutará indefinidamente hasta que el usuario adivine el número secreto.\n",
    "while True:\n",
    "    # El usuario ingresa un número y lo convertimos a un entero.\n",
    "    adivina_usuario = int(input('Ingresa un número y adivina el número secreto: '))\n",
    "    \n",
    "    # Incrementamos el contador de intentos.\n",
    "    intentos += 1\n",
    "\n",
    "    # Comprobamos si el usuario adivinó el número en el primer intento y mostramos un mensaje especial.\n",
    "    if adivina_usuario == numero_aleatorio and intentos == 1:\n",
    "        print(\"Felicidades, has ganado en el primer intento\")\n",
    "        break\n",
    "\n",
    "    # Comprobamos si el usuario adivinó el número y mostramos un mensaje de victoria.\n",
    "    elif adivina_usuario == numero_aleatorio:\n",
    "        print('Has ganado!')\n",
    "        break\n",
    "\n",
    "    # Si el número adivinado es menor que el número secreto, indicamos que el número es menor y se debe seguir intentando.\n",
    "    elif adivina_usuario < numero_aleatorio:\n",
    "        print('El número que has elegido es menor al número secreto. Sigue intentando')\n",
    "\n",
    "    # Si el número adivinado es mayor que el número secreto, indicamos que el número es mayor y se debe seguir intentando.\n",
    "    else:\n",
    "        print('El número que has elegido es mayor al número secreto. Sigue intentando')\n",
    "\n",
    "# Una vez que el bucle while ha terminado, mostramos la cantidad de intentos realizados.\n",
    "print(f'La cantidad de intentos fueron {intentos}')\n"
   ]
  },
  {
   "cell_type": "markdown",
   "metadata": {},
   "source": [
    "- Ejercicio 4: Juego de Adivinar la Palabra\n",
    "\n",
    "    - Elige una palabra secreta y ocúltala utilizando asteriscos, por ejemplo, \"secreto\" se muestra como \"*******\".\n",
    "\n",
    "    - Permite al usuario adivinar letras una por una.\n",
    "\n",
    "    - Si la letra adivinada está en la palabra secreta, muestra la palabra con las letras descubiertas y los asteriscos.\n",
    "\n",
    "    - Si la letra no está en la palabra secreta, resta una vida al jugador.\n",
    "\n",
    "    - El juego continúa hasta que el jugador adivine la palabra.\n",
    "    "
   ]
  },
  {
   "cell_type": "code",
   "execution_count": 52,
   "metadata": {},
   "outputs": [
    {
     "name": "stdout",
     "output_type": "stream",
     "text": [
      "Esa letra no se encuentra en la palabra\n",
      "Te quedan 9 vidas\n"
     ]
    }
   ],
   "source": [
    "# Primero, se crea un diccionario llamado palabra_secreta donde las letras de la palabra \"python\" se representan con asteriscos.\n",
    "palabra_secreta = {\"p\": \"*\", \"y\": \"*\", \"t\": \"*\", \"h\": \"*\", \"o\": \"*\", \"n\": \"*\"}\n",
    "\n",
    "# Se establece el número inicial de vidas del jugador en 10.\n",
    "vida = 10\n",
    "\n",
    "# Se crea una variable llamada 'respuesta' que contiene los asteriscos del diccionario como una cadena.\n",
    "respuesta = \"\".join(palabra_secreta.values())\n",
    "\n",
    "# Se inicia un bucle while que se ejecutará mientras la respuesta no sea igual a \"python\" y el jugador tenga al menos 1 vida.\n",
    "while respuesta != \"python\" and vida >= 1:\n",
    "    # Se solicita al jugador que introduzca una letra que pueda estar en la palabra y se convierte a minúsculas.\n",
    "    pregunta = input(\"Introduce una letra que pueda estar en la palabra\").lower()\n",
    "\n",
    "    # Se verifica si la letra ingresada está en la palabra secreta.\n",
    "    if pregunta in palabra_secreta:\n",
    "        # Si la letra está en la palabra, se actualiza el diccionario y se reemplaza el asterisco correspondiente por la letra adivinada.\n",
    "        palabra_secreta[pregunta] = pregunta\n",
    "        respuesta = \"\".join(palabra_secreta.values())\n",
    "        print(respuesta)\n",
    "        print(f\"Te quedan {vida} vidas\")\n",
    "    else:\n",
    "        # Si la letra no está en la palabra, se resta una vida y se muestra el número de vidas restantes.\n",
    "        print(\"Esa letra no se encuentra en la palabra\")\n",
    "        vida -= 1\n",
    "        print(f\"Te quedan {vida} vidas\")\n",
    "\n",
    "# Finalmente, se comprueba si el jugador ha perdido (vida = 0) o ganado (respuesta = \"python\") y se muestra el mensaje correspondiente.\n",
    "if vida == 0:\n",
    "    print(\"Se te acabaron las vidas\")\n",
    "else:\n",
    "    print(f\"¡Enhorabuena!, la palabra era {respuesta}, acabaste con {vida} vidas\")\n"
   ]
  }
 ],
 "metadata": {
  "kernelspec": {
   "display_name": "promoe",
   "language": "python",
   "name": "python3"
  },
  "language_info": {
   "codemirror_mode": {
    "name": "ipython",
    "version": 3
   },
   "file_extension": ".py",
   "mimetype": "text/x-python",
   "name": "python",
   "nbconvert_exporter": "python",
   "pygments_lexer": "ipython3",
   "version": "3.9.7"
  },
  "orig_nbformat": 4
 },
 "nbformat": 4,
 "nbformat_minor": 2
}
